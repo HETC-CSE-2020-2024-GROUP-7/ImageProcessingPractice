{
 "cells": [
  {
   "cell_type": "code",
   "execution_count": 2,
   "metadata": {},
   "outputs": [
    {
     "name": "stdout",
     "output_type": "stream",
     "text": [
      "Requirement already satisfied: opencv-python in /home/aritrarc/Program1/FinalProject/.env/lib/python3.10/site-packages (4.7.0.72)\n",
      "Requirement already satisfied: numpy>=1.21.2 in /home/aritrarc/Program1/FinalProject/.env/lib/python3.10/site-packages (from opencv-python) (1.24.2)\n",
      "Requirement already satisfied: scikit-image in /home/aritrarc/Program1/FinalProject/.env/lib/python3.10/site-packages (0.20.0)\n",
      "Requirement already satisfied: lazy_loader>=0.1 in /home/aritrarc/Program1/FinalProject/.env/lib/python3.10/site-packages (from scikit-image) (0.1)\n",
      "Requirement already satisfied: tifffile>=2019.7.26 in /home/aritrarc/Program1/FinalProject/.env/lib/python3.10/site-packages (from scikit-image) (2023.2.28)\n",
      "Requirement already satisfied: scipy>=1.8 in /home/aritrarc/Program1/FinalProject/.env/lib/python3.10/site-packages (from scikit-image) (1.10.1)\n",
      "Requirement already satisfied: packaging>=20.0 in /home/aritrarc/Program1/FinalProject/.env/lib/python3.10/site-packages (from scikit-image) (23.0)\n",
      "Requirement already satisfied: imageio>=2.4.1 in /home/aritrarc/Program1/FinalProject/.env/lib/python3.10/site-packages (from scikit-image) (2.26.0)\n",
      "Requirement already satisfied: numpy>=1.21.1 in /home/aritrarc/Program1/FinalProject/.env/lib/python3.10/site-packages (from scikit-image) (1.24.2)\n",
      "Requirement already satisfied: networkx>=2.8 in /home/aritrarc/Program1/FinalProject/.env/lib/python3.10/site-packages (from scikit-image) (3.0)\n",
      "Requirement already satisfied: PyWavelets>=1.1.1 in /home/aritrarc/Program1/FinalProject/.env/lib/python3.10/site-packages (from scikit-image) (1.4.1)\n",
      "Requirement already satisfied: pillow>=9.0.1 in /home/aritrarc/Program1/FinalProject/.env/lib/python3.10/site-packages (from scikit-image) (9.4.0)\n",
      "Requirement already satisfied: numpy in /home/aritrarc/Program1/FinalProject/.env/lib/python3.10/site-packages (1.24.2)\n"
     ]
    }
   ],
   "source": [
    "!pip install opencv-python\n",
    "!pip install scikit-image\n",
    "!pip install numpy"
   ]
  },
  {
   "cell_type": "code",
   "execution_count": 3,
   "metadata": {},
   "outputs": [],
   "source": [
    "import cv2\n",
    "from skimage import measure, morphology\n",
    "import numpy as np"
   ]
  },
  {
   "cell_type": "code",
   "execution_count": 14,
   "metadata": {},
   "outputs": [],
   "source": [
    "def signature_detection(image:np.ndarray,output=None) -> None:\n",
    "    # Gray Scale Conversion \n",
    "    img=cv2.cvtColor(image, cv2.COLOR_BGR2GRAY)\n",
    "    # smoothing\n",
    "    # img=cv2.bilateralFilter(img,35, 105, 105)\n",
    "    # Binary Scale Conversion\n",
    "    img = cv2.threshold(img, 115, 255, cv2.THRESH_BINARY)[1] \n",
    "    # Connected Reagion Detection   \n",
    "    blobs_labels = measure.label((img > img.mean()), background=1)\n",
    "    # Mean Area calculation\n",
    "    mean_area = 0; counter = 0   \n",
    "    for region in measure.regionprops(blobs_labels):\n",
    "        if (region.area > 10):\n",
    "            mean_area = mean_area + region.area\n",
    "            counter = counter + 1\n",
    "    mean_area = (mean_area/counter)\n",
    "    # Min_Max_outliar calculation\n",
    "    min_outliar = (mean_area*2.9762)+100\n",
    "    max_outliar = min_outliar*18    \n",
    "    # Removing Outliar \n",
    "    img = morphology.remove_small_objects(blobs_labels, min_outliar) \n",
    "    small_mask = np.bincount(img.reshape(-1)) > max_outliar  \n",
    "    img[small_mask[img]] = 0\n",
    "    # Normalization\n",
    "    img = np.array((img/img.max())*255,np.uint8)\n",
    "    # Binary image Conversion\n",
    "   \n",
    "    thresh = 100+(img.mean()**2)*(100/255)*2\n",
    "\n",
    "    img = cv2.threshold(img, thresh, 255, cv2.THRESH_BINARY_INV)[1]\n",
    "    # Erode image to find signature\n",
    "    img = cv2.erode(img, np.ones((21,21)),50)\n",
    "    # Contour detection\n",
    "    contour = cv2.findContours(img,cv2.RETR_LIST,cv2.CHAIN_APPROX_NONE)[0]    \n",
    "    c = sorted(contour,key =cv2.contourArea)[-2]\n",
    "    # Boundary Drawing    \n",
    "    x,y,w,h =cv2.boundingRect(c)\n",
    "    img = cv2.rectangle(image,(x,y),(x+w,y+h),(0,255,0),3)\n",
    "    # disp(img)\n",
    "    cv2.imwrite(output, img)\n"
   ]
  },
  {
   "cell_type": "code",
   "execution_count": 11,
   "metadata": {},
   "outputs": [],
   "source": [
    "image_dir = '../images/signatureDocuments'\n",
    "result_dir= '../result'"
   ]
  },
  {
   "cell_type": "code",
   "execution_count": 6,
   "metadata": {},
   "outputs": [
    {
     "name": "stderr",
     "output_type": "stream",
     "text": [
      "/tmp/ipykernel_49215/2272441338.py:25: RuntimeWarning: invalid value encountered in divide\n",
      "  img = np.array((img/img.max())*255,np.uint8)\n",
      "/tmp/ipykernel_49215/2272441338.py:25: RuntimeWarning: invalid value encountered in cast\n",
      "  img = np.array((img/img.max())*255,np.uint8)\n"
     ]
    }
   ],
   "source": [
    "import os \n",
    "l=[]\n",
    "for i in os.listdir(image_dir):\n",
    "    l+=[i]\n",
    "k=0\n",
    "for i in l:    \n",
    "    try:\n",
    "        img = cv2.imread(os.path.join(image_dir,i))\n",
    "        signature_detection(img, f\"{result_dir}/{i}\")\n",
    "    except:\n",
    "        pass\n",
    "    "
   ]
  },
  {
   "cell_type": "markdown",
   "metadata": {},
   "source": []
  },
  {
   "cell_type": "code",
   "execution_count": 12,
   "metadata": {},
   "outputs": [],
   "source": [
    "img = cv2.imread(\"/home/aritrarc/Downloads/4.jpeg\")\n",
    "signature_detection(img, f\"{result_dir}/{i}\")"
   ]
  },
  {
   "cell_type": "code",
   "execution_count": null,
   "metadata": {},
   "outputs": [],
   "source": []
  }
 ],
 "metadata": {
  "kernelspec": {
   "display_name": ".env",
   "language": "python",
   "name": "python3"
  },
  "language_info": {
   "codemirror_mode": {
    "name": "ipython",
    "version": 3
   },
   "file_extension": ".py",
   "mimetype": "text/x-python",
   "name": "python",
   "nbconvert_exporter": "python",
   "pygments_lexer": "ipython3",
   "version": "3.10.9"
  },
  "orig_nbformat": 4
 },
 "nbformat": 4,
 "nbformat_minor": 2
}
